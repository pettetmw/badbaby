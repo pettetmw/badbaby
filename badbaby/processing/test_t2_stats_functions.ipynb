{
 "cells": [
  {
   "cell_type": "code",
   "execution_count": 1,
   "source": [
    "%matplotlib inline"
   ],
   "outputs": [],
   "metadata": {}
  },
  {
   "cell_type": "code",
   "execution_count": 3,
   "source": [
    "import mne\n",
    "import numpy as np\n",
    "from t2_stats import t2_circ, t2_hot"
   ],
   "outputs": [],
   "metadata": {}
  },
  {
   "cell_type": "code",
   "execution_count": 7,
   "source": [
    "# %% Some code for testing:\n",
    "def t2_evo_from_epo_path(epo_path):\n",
    "    # epo_path : subject's epo file path (can be Epochs or EpochsTFR)\n",
    "    # returns : AverageTFR with data from t2_circ() or t2_hot()\n",
    "\n",
    "    # Either: create the complex EpochsTFR from Epochs file\n",
    "    if epo_path[-3:] == 'fif': \n",
    "        epo = mne.read_epochs(epo_path)['tone']\n",
    "        freqs = np.arange(34.0,48.0,2.0)\n",
    "        n_cycles = freqs / 2.\n",
    "        tfr_epo = mne.time_frequency.tfr_morlet( epo, freqs=freqs, n_cycles=n_cycles, use_fft=True,\n",
    "            return_itc=False, average=False, output='complex')\n",
    "    # Or: read in the saved complex EpochsTFR\n",
    "    else: \n",
    "        tfr_epo = mne.time_frequency.read_tfrs( epo_path )[0]\n",
    "\n",
    "    info = tfr_epo.info\n",
    "    ntrl = tfr_epo.data.shape[0]\n",
    "    times = tfr_epo.times\n",
    "    freqs = tfr_epo.freqs\n",
    "    t2 = t2_circ(tfr_epo.data) # faster\n",
    "    #t2 = t2_hot(tfr_epo.data) # very slow\n",
    "    t2_evo = mne.time_frequency.AverageTFR(info,t2,times,freqs,ntrl)\n",
    "    return t2_evo\n"
   ],
   "outputs": [],
   "metadata": {}
  },
  {
   "cell_type": "code",
   "execution_count": 8,
   "source": [
    "# # read original time domain epochs (slower)\n",
    "# t2c = t2_evo_from_epo_path('/mnt/ilabs/badbaby/data/bad_116a/epochs/All_50-sss_bad_116a-epo.fif')\n",
    "# print(t2c)\n",
    "\n",
    "# read saved tfr epochs (faster)\n",
    "t2c = t2_evo_from_epo_path('/mnt/ilabs/badbaby/data/bad_116a/epochs/All_50-sss_bad_116a-tfr-epo-tfr.h5')\n",
    "print(t2c)\n"
   ],
   "outputs": [
    {
     "output_type": "stream",
     "name": "stdout",
     "text": [
      "Reading /mnt/ilabs/badbaby/data/bad_116a/epochs/All_50-sss_bad_116a-epo.fif ...\n",
      "    Read a total of 1 projection items:\n",
      "        meg-ECG--0.04-0.04-PCA-01 (1 x 306)  idle\n",
      "    Found the data of interest:\n",
      "        t =    -200.00 ...    1300.00 ms\n",
      "        0 CTF compensation matrices available\n",
      "Not setting metadata\n",
      "Not setting metadata\n",
      "441 matching events found\n",
      "No baseline correction applied\n",
      "Created an SSP operator (subspace dimension = 1)\n",
      "1 projection items activated\n",
      "Not setting metadata\n",
      "<AverageTFR | time : [-0.200000, 1.300000], freq : [34.000000, 46.000000], nave : 53, channels : 306, ~18.1 MB>\n",
      "Reading /mnt/ilabs/badbaby/data/bad_116a/epochs/All_50-sss_bad_116a-tfr-epo-tfr.h5 ...\n",
      "Not setting metadata\n",
      "<AverageTFR | time : [-0.200000, 1.300000], freq : [38.000000, 42.000000], nave : 53, channels : 306, ~13.2 MB>\n"
     ]
    }
   ],
   "metadata": {}
  }
 ],
 "metadata": {
  "orig_nbformat": 4,
  "language_info": {
   "name": "python",
   "version": "3.9.6",
   "mimetype": "text/x-python",
   "codemirror_mode": {
    "name": "ipython",
    "version": 3
   },
   "pygments_lexer": "ipython3",
   "nbconvert_exporter": "python",
   "file_extension": ".py"
  },
  "kernelspec": {
   "name": "python3",
   "display_name": "Python 3.9.6 64-bit ('mne23': conda)"
  },
  "interpreter": {
   "hash": "0e39c34907fd5ad9089f8dbfee94ca42dce41cc1d80f56b3e3c4626f0e99d0bd"
  }
 },
 "nbformat": 4,
 "nbformat_minor": 2
}