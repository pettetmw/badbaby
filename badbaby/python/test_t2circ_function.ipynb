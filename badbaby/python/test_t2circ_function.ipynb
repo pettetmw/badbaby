{
 "cells": [
  {
   "cell_type": "code",
   "execution_count": 1,
   "source": [
    "%matplotlib inline"
   ],
   "outputs": [],
   "metadata": {}
  },
  {
   "cell_type": "code",
   "execution_count": 1,
   "source": [
    "from t2circ import t2circ_from_epo_tfr"
   ],
   "outputs": [],
   "metadata": {}
  },
  {
   "cell_type": "code",
   "execution_count": 3,
   "source": [
    "# # read original time domain epochs (takes about 1 min)\n",
    "# t2c = t2circ_from_epo_tfr('/mnt/ilabs/badbaby/data/bad_116a/epochs/All_50-sss_bad_116a-epo.fif')\n",
    "# print(t2c)\n",
    "\n",
    "# read saved tfr epochs (takes about 4 sec)\n",
    "t2c = t2circ_from_epo_tfr('/mnt/ilabs/badbaby/data/bad_116a/epochs/All_50-sss_bad_116a-tfr-epo-tfr.h5')\n",
    "print(t2c)\n"
   ],
   "outputs": [
    {
     "output_type": "stream",
     "name": "stdout",
     "text": [
      "Reading /mnt/ilabs/badbaby/data/bad_116a/epochs/All_50-sss_bad_116a-tfr-epo-tfr.h5 ...\n",
      "Not setting metadata\n",
      "<AverageTFR | time : [-0.200000, 1.300000], freq : [38.000000, 42.000000], nave : 53, channels : 306, ~13.2 MB>\n"
     ]
    }
   ],
   "metadata": {}
  }
 ],
 "metadata": {
  "orig_nbformat": 4,
  "language_info": {
   "name": "python",
   "version": "3.9.6",
   "mimetype": "text/x-python",
   "codemirror_mode": {
    "name": "ipython",
    "version": 3
   },
   "pygments_lexer": "ipython3",
   "nbconvert_exporter": "python",
   "file_extension": ".py"
  },
  "kernelspec": {
   "name": "python3",
   "display_name": "Python 3.9.6 64-bit ('mne23': conda)"
  },
  "interpreter": {
   "hash": "0e39c34907fd5ad9089f8dbfee94ca42dce41cc1d80f56b3e3c4626f0e99d0bd"
  }
 },
 "nbformat": 4,
 "nbformat_minor": 2
}